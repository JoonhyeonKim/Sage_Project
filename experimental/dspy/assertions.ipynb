{
 "cells": [
  {
   "cell_type": "code",
   "execution_count": null,
   "metadata": {},
   "outputs": [],
   "source": [
    "import dspy"
   ]
  },
  {
   "cell_type": "markdown",
   "metadata": {},
   "source": [
    "## Introduction"
   ]
  },
  {
   "cell_type": "markdown",
   "metadata": {},
   "source": [
    "### dspy.Assert and dspy.Suggest API"
   ]
  },
  {
   "cell_type": "markdown",
   "metadata": {},
   "source": [
    "* dspy.Assert:\n",
    "\n",
    "    * Parameters:\n",
    "        * constraint (bool): Outcome of Python-defined boolean validation check.\n",
    "        * msg (Optional[str]): User-defined error message providing feedback or correction guidance.\n",
    "        * backtrack (Optional[module]): Specifies target module for retry attempts upon constraint failure. The default backtracking module is the last module before the assertion.\n",
    "    * Behavior: Initiates retry upon failure, dynamically adjusting the pipeline's execution. If failures persist, it halts execution and raises a dspy.AssertionError.\n",
    "\n",
    "* dspy.Suggest:\n",
    "\n",
    "        * Parameters: Similar to dspy.Assert.\n",
    "        * Behavior: Encourages self-refinement through retries without enforcing hard stops. Logs failures after maximum backtracking attempts and continues execution.\n",
    "* dspy.Assert vs. Python Assertions: Unlike conventional Python assert statements that terminate the program upon failure, dspy.Assert conducts a sophisticated retry mechanism, allowing the pipeline to adjust.\n",
    "\n",
    "Specifically, when a constraint is not met:\n",
    "\n",
    "* Backtracking Mechanism: An under-the-hood backtracking is initiated, offering the model a chance to self-refine and proceed, which is done through\n",
    "Dynamic Signature Modification: internally modifying your DSPy program’s Signature by adding the following fields:\n",
    "* Past Output: your model's past output that did not pass the validation_fn\n",
    "Instruction: your user-defined feedback message on what went wrong and what possibly to fix\n",
    "If the error continues past the max_backtracking_attempts, then dspy.Assert will halt the pipeline execution, altering you with an dspy.AssertionError. This ensures your program doesn't continue executing with “bad” LM behavior and immediately highlights sample failure outputs for user assessment.\n",
    "\n",
    "dspy.Suggest vs. dspy.Assert: dspy.Suggest on the other hand offers a softer approach. It maintains the same retry backtracking as dspy.Assert but instead serves as a gentle nudger. If the model outputs cannot pass the model constraints after the max_backtracking_attempts, dspy.Suggest will log the persistent failure and continue execution of the program on the rest of the data. This ensures the LM pipeline works in a \"best-effort\" manner without halting execution.\n",
    "\n",
    "dspy.Suggest are best utilized as \"helpers\" during the evaluation phase, offering guidance and potential corrections without halting the pipeline.\n",
    "\n",
    "dspy.Assert are recommended during the development stage as \"checkers\" to ensure the LM behaves as expected, providing a robust mechanism for identifying and addressing errors early in the development cycle."
   ]
  },
  {
   "cell_type": "markdown",
   "metadata": {},
   "source": [
    "## Use Case: Including Assertions in DSPy Programs"
   ]
  },
  {
   "cell_type": "code",
   "execution_count": null,
   "metadata": {},
   "outputs": [],
   "source": [
    "class SimplifiedBaleen(dspy.Module):\n",
    "    def __init__(self, passages_per_hop=2, max_hops=2):\n",
    "        super().__init__()\n",
    "\n",
    "        self.generate_query = [dspy.ChainOfThought(GenerateSearchQuery) for _ in range(max_hops)]\n",
    "        self.retrieve = dspy.Retrieve(k=passages_per_hop)\n",
    "        self.generate_answer = dspy.ChainOfThought(GenerateAnswer)\n",
    "        self.max_hops = max_hops\n",
    "\n",
    "    def forward(self, question):\n",
    "        context = []\n",
    "        prev_queries = [question]\n",
    "\n",
    "        for hop in range(self.max_hops):\n",
    "            query = self.generate_query[hop](context=context, question=question).query\n",
    "            prev_queries.append(query)\n",
    "            passages = self.retrieve(query).passages\n",
    "            context = deduplicate(context + passages)\n",
    "        \n",
    "        pred = self.generate_answer(context=context, question=question)\n",
    "        pred = dspy.Prediction(context=context, answer=pred.answer)\n",
    "        return pred\n",
    "\n",
    "baleen = SimplifiedBaleen()\n",
    "\n",
    "baleen(question = \"Which award did Gary Zukav's first book receive?\")"
   ]
  },
  {
   "cell_type": "code",
   "execution_count": null,
   "metadata": {},
   "outputs": [],
   "source": [
    "#simplistic boolean check for query length\n",
    "len(query) <= 100\n",
    "\n",
    "#Python function for validating distinct queries\n",
    "def validate_query_distinction_local(previous_queries, query):\n",
    "    \"\"\"check if query is distinct from previous queries\"\"\"\n",
    "    if previous_queries == []:\n",
    "        return True\n",
    "    if dspy.evaluate.answer_exact_match_str(query, previous_queries, frac=0.8):\n",
    "        return False\n",
    "    return True"
   ]
  },
  {
   "cell_type": "code",
   "execution_count": null,
   "metadata": {},
   "outputs": [],
   "source": [
    "dspy.Suggest(\n",
    "    len(query) <= 100,\n",
    "    \"Query should be short and less than 100 characters\",\n",
    ")\n",
    "\n",
    "dspy.Suggest(\n",
    "    validate_query_distinction_local(prev_queries, query),\n",
    "    \"Query should be distinct from: \"\n",
    "    + \"; \".join(f\"{i+1}) {q}\" for i, q in enumerate(prev_queries)),\n",
    ")"
   ]
  },
  {
   "cell_type": "code",
   "execution_count": null,
   "metadata": {},
   "outputs": [],
   "source": [
    "class SimplifiedBaleenAssertions(dspy.Module):\n",
    "    def __init__(self, passages_per_hop=2, max_hops=2):\n",
    "        super().__init__()\n",
    "        self.generate_query = [dspy.ChainOfThought(GenerateSearchQuery) for _ in range(max_hops)]\n",
    "        self.retrieve = dspy.Retrieve(k=passages_per_hop)\n",
    "        self.generate_answer = dspy.ChainOfThought(GenerateAnswer)\n",
    "        self.max_hops = max_hops\n",
    "\n",
    "    def forward(self, question):\n",
    "        context = []\n",
    "        prev_queries = [question]\n",
    "\n",
    "        for hop in range(self.max_hops):\n",
    "            query = self.generate_query[hop](context=context, question=question).query\n",
    "\n",
    "            dspy.Suggest(\n",
    "                len(query) <= 100,\n",
    "                \"Query should be short and less than 100 characters\",\n",
    "            )\n",
    "\n",
    "            dspy.Suggest(\n",
    "                validate_query_distinction_local(prev_queries, query),\n",
    "                \"Query should be distinct from: \"\n",
    "                + \"; \".join(f\"{i+1}) {q}\" for i, q in enumerate(prev_queries)),\n",
    "            )\n",
    "\n",
    "            prev_queries.append(query)\n",
    "            passages = self.retrieve(query).passages\n",
    "            context = deduplicate(context + passages)\n",
    "        \n",
    "        if all_queries_distinct(prev_queries):\n",
    "            self.passed_suggestions += 1\n",
    "\n",
    "        pred = self.generate_answer(context=context, question=question)\n",
    "        pred = dspy.Prediction(context=context, answer=pred.answer)\n",
    "        return pred"
   ]
  }
 ],
 "metadata": {
  "language_info": {
   "name": "python"
  }
 },
 "nbformat": 4,
 "nbformat_minor": 2
}
