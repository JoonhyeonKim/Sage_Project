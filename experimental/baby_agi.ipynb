{
 "cells": [
  {
   "cell_type": "markdown",
   "id": "517a9fd4",
   "metadata": {},
   "source": [
    "# BabyAGI User Guide\n",
    "\n",
    "This notebook demonstrates how to implement [BabyAGI](https://github.com/yoheinakajima/babyagi/tree/main) by [Yohei Nakajima](https://twitter.com/yoheinakajima). BabyAGI is an AI agent that can generate and pretend to execute tasks based on a given objective.\n",
    "\n",
    "This guide will help you understand the components to create your own recursive agents.\n",
    "\n",
    "Although BabyAGI uses specific vectorstores/model providers (Pinecone, OpenAI), one of the benefits of implementing it with LangChain is that you can easily swap those out for different options. In this implementation we use a FAISS vectorstore (because it runs locally and is free)."
   ]
  },
  {
   "cell_type": "code",
   "execution_count": 2,
   "id": "a9b800cb",
   "metadata": {},
   "outputs": [
    {
     "name": "stdout",
     "output_type": "stream",
     "text": [
      "Collecting langchain\n",
      "  Using cached langchain-0.1.5-py3-none-any.whl (806 kB)\n",
      "Collecting tenacity<9.0.0,>=8.1.0\n",
      "  Using cached tenacity-8.2.3-py3-none-any.whl (24 kB)\n",
      "Collecting SQLAlchemy<3,>=1.4\n",
      "  Using cached SQLAlchemy-2.0.25-cp310-cp310-manylinux_2_17_x86_64.manylinux2014_x86_64.whl (3.1 MB)\n",
      "Collecting langsmith<0.1,>=0.0.83\n",
      "  Downloading langsmith-0.0.87-py3-none-any.whl (55 kB)\n",
      "\u001b[2K     \u001b[90m━━━━━━━━━━━━━━━━━━━━━━━━━━━━━━━━━━━━━━━━\u001b[0m \u001b[32m55.4/55.4 kB\u001b[0m \u001b[31m4.4 MB/s\u001b[0m eta \u001b[36m0:00:00\u001b[0m\n",
      "\u001b[?25hCollecting PyYAML>=5.3\n",
      "  Using cached PyYAML-6.0.1-cp310-cp310-manylinux_2_17_x86_64.manylinux2014_x86_64.whl (705 kB)\n",
      "Requirement already satisfied: async-timeout<5.0.0,>=4.0.0 in /home/none/.local/lib/python3.10/site-packages (from langchain) (4.0.2)\n",
      "Collecting dataclasses-json<0.7,>=0.5.7\n",
      "  Downloading dataclasses_json-0.6.4-py3-none-any.whl (28 kB)\n",
      "Collecting langchain-community<0.1,>=0.0.17\n",
      "  Downloading langchain_community-0.0.19-py3-none-any.whl (1.6 MB)\n",
      "\u001b[2K     \u001b[90m━━━━━━━━━━━━━━━━━━━━━━━━━━━━━━━━━━━━━━━━\u001b[0m \u001b[32m1.6/1.6 MB\u001b[0m \u001b[31m7.6 MB/s\u001b[0m eta \u001b[36m0:00:00\u001b[0m00:01\u001b[0m00:01\u001b[0m\n",
      "\u001b[?25hRequirement already satisfied: requests<3,>=2 in /home/none/.local/lib/python3.10/site-packages (from langchain) (2.28.2)\n",
      "Collecting numpy<2,>=1\n",
      "  Downloading numpy-1.26.4-cp310-cp310-manylinux_2_17_x86_64.manylinux2014_x86_64.whl (18.2 MB)\n",
      "\u001b[2K     \u001b[90m━━━━━━━━━━━━━━━━━━━━━━━━━━━━━━━━━━━━━━━━\u001b[0m \u001b[32m18.2/18.2 MB\u001b[0m \u001b[31m7.1 MB/s\u001b[0m eta \u001b[36m0:00:00\u001b[0m00:01\u001b[0m00:01\u001b[0m\n",
      "\u001b[?25hCollecting jsonpatch<2.0,>=1.33\n",
      "  Using cached jsonpatch-1.33-py2.py3-none-any.whl (12 kB)\n",
      "Requirement already satisfied: aiohttp<4.0.0,>=3.8.3 in /home/none/.local/lib/python3.10/site-packages (from langchain) (3.8.4)\n",
      "Collecting langchain-core<0.2,>=0.1.16\n",
      "  Downloading langchain_core-0.1.21-py3-none-any.whl (238 kB)\n",
      "\u001b[2K     \u001b[90m━━━━━━━━━━━━━━━━━━━━━━━━━━━━━━━━━━━━━━━\u001b[0m \u001b[32m238.5/238.5 kB\u001b[0m \u001b[31m7.2 MB/s\u001b[0m eta \u001b[36m0:00:00\u001b[0m\n",
      "\u001b[?25hRequirement already satisfied: pydantic<3,>=1 in /home/none/miniconda3/lib/python3.10/site-packages (from langchain) (2.5.3)\n",
      "Requirement already satisfied: charset-normalizer<4.0,>=2.0 in /home/none/.local/lib/python3.10/site-packages (from aiohttp<4.0.0,>=3.8.3->langchain) (3.1.0)\n",
      "Requirement already satisfied: frozenlist>=1.1.1 in /home/none/.local/lib/python3.10/site-packages (from aiohttp<4.0.0,>=3.8.3->langchain) (1.3.3)\n",
      "Requirement already satisfied: aiosignal>=1.1.2 in /home/none/.local/lib/python3.10/site-packages (from aiohttp<4.0.0,>=3.8.3->langchain) (1.3.1)\n",
      "Requirement already satisfied: yarl<2.0,>=1.0 in /home/none/.local/lib/python3.10/site-packages (from aiohttp<4.0.0,>=3.8.3->langchain) (1.8.2)\n",
      "Requirement already satisfied: multidict<7.0,>=4.5 in /home/none/.local/lib/python3.10/site-packages (from aiohttp<4.0.0,>=3.8.3->langchain) (6.0.4)\n",
      "Requirement already satisfied: attrs>=17.3.0 in /home/none/.local/lib/python3.10/site-packages (from aiohttp<4.0.0,>=3.8.3->langchain) (22.2.0)\n",
      "Collecting marshmallow<4.0.0,>=3.18.0\n",
      "  Using cached marshmallow-3.20.2-py3-none-any.whl (49 kB)\n",
      "Collecting typing-inspect<1,>=0.4.0\n",
      "  Using cached typing_inspect-0.9.0-py3-none-any.whl (8.8 kB)\n",
      "Requirement already satisfied: jsonpointer>=1.9 in /home/none/.local/lib/python3.10/site-packages (from jsonpatch<2.0,>=1.33->langchain) (2.3)\n",
      "Collecting packaging<24.0,>=23.2\n",
      "  Using cached packaging-23.2-py3-none-any.whl (53 kB)\n",
      "Requirement already satisfied: anyio<5,>=3 in /home/none/.local/lib/python3.10/site-packages (from langchain-core<0.2,>=0.1.16->langchain) (3.6.2)\n",
      "Requirement already satisfied: pydantic-core==2.14.6 in /home/none/miniconda3/lib/python3.10/site-packages (from pydantic<3,>=1->langchain) (2.14.6)\n",
      "Requirement already satisfied: typing-extensions>=4.6.1 in /home/none/miniconda3/lib/python3.10/site-packages (from pydantic<3,>=1->langchain) (4.9.0)\n",
      "Requirement already satisfied: annotated-types>=0.4.0 in /home/none/miniconda3/lib/python3.10/site-packages (from pydantic<3,>=1->langchain) (0.6.0)\n",
      "Requirement already satisfied: idna<4,>=2.5 in /home/none/miniconda3/lib/python3.10/site-packages (from requests<3,>=2->langchain) (3.4)\n",
      "Requirement already satisfied: urllib3<1.27,>=1.21.1 in /home/none/miniconda3/lib/python3.10/site-packages (from requests<3,>=2->langchain) (1.26.14)\n",
      "Requirement already satisfied: certifi>=2017.4.17 in /home/none/miniconda3/lib/python3.10/site-packages (from requests<3,>=2->langchain) (2022.12.7)\n",
      "Collecting greenlet!=0.4.17\n",
      "  Using cached greenlet-3.0.3-cp310-cp310-manylinux_2_24_x86_64.manylinux_2_28_x86_64.whl (616 kB)\n",
      "Requirement already satisfied: sniffio>=1.1 in /home/none/.local/lib/python3.10/site-packages (from anyio<5,>=3->langchain-core<0.2,>=0.1.16->langchain) (1.3.0)\n",
      "Collecting mypy-extensions>=0.3.0\n",
      "  Using cached mypy_extensions-1.0.0-py3-none-any.whl (4.7 kB)\n",
      "Installing collected packages: tenacity, PyYAML, packaging, numpy, mypy-extensions, jsonpatch, greenlet, typing-inspect, SQLAlchemy, marshmallow, langsmith, dataclasses-json, langchain-core, langchain-community, langchain\n",
      "  Attempting uninstall: packaging\n",
      "    Found existing installation: packaging 23.0\n",
      "    Uninstalling packaging-23.0:\n",
      "      Successfully uninstalled packaging-23.0\n",
      "Successfully installed PyYAML-6.0.1 SQLAlchemy-2.0.25 dataclasses-json-0.6.4 greenlet-3.0.3 jsonpatch-1.33 langchain-0.1.5 langchain-community-0.0.19 langchain-core-0.1.21 langsmith-0.0.87 marshmallow-3.20.2 mypy-extensions-1.0.0 numpy-1.26.4 packaging-23.2 tenacity-8.2.3 typing-inspect-0.9.0\n"
     ]
    }
   ],
   "source": [
    "!pip install langchain"
   ]
  },
  {
   "cell_type": "code",
   "execution_count": 4,
   "id": "671f1539",
   "metadata": {},
   "outputs": [
    {
     "name": "stdout",
     "output_type": "stream",
     "text": [
      "Collecting langchain_experimental\n",
      "  Downloading langchain_experimental-0.0.50-py3-none-any.whl (166 kB)\n",
      "\u001b[2K     \u001b[90m━━━━━━━━━━━━━━━━━━━━━━━━━━━━━━━━━━━━━━━\u001b[0m \u001b[32m166.8/166.8 kB\u001b[0m \u001b[31m5.6 MB/s\u001b[0m eta \u001b[36m0:00:00\u001b[0m\n",
      "\u001b[?25hCollecting langchain_openai\n",
      "  Using cached langchain_openai-0.0.5-py3-none-any.whl (29 kB)\n",
      "Requirement already satisfied: langchain<0.2.0,>=0.1.5 in /home/none/miniconda3/lib/python3.10/site-packages (from langchain_experimental) (0.1.5)\n",
      "Requirement already satisfied: langchain-core<0.2.0,>=0.1.16 in /home/none/miniconda3/lib/python3.10/site-packages (from langchain_experimental) (0.1.21)\n",
      "Collecting tiktoken<0.6.0,>=0.5.2\n",
      "  Using cached tiktoken-0.5.2-cp310-cp310-manylinux_2_17_x86_64.manylinux2014_x86_64.whl (2.0 MB)\n",
      "Requirement already satisfied: numpy<2,>=1 in /home/none/miniconda3/lib/python3.10/site-packages (from langchain_openai) (1.26.4)\n",
      "Collecting openai<2.0.0,>=1.10.0\n",
      "  Downloading openai-1.11.1-py3-none-any.whl (226 kB)\n",
      "\u001b[2K     \u001b[90m━━━━━━━━━━━━━━━━━━━━━━━━━━━━━━━━━━━━━━━\u001b[0m \u001b[32m226.1/226.1 kB\u001b[0m \u001b[31m8.1 MB/s\u001b[0m eta \u001b[36m0:00:00\u001b[0m\n",
      "\u001b[?25hRequirement already satisfied: SQLAlchemy<3,>=1.4 in /home/none/miniconda3/lib/python3.10/site-packages (from langchain<0.2.0,>=0.1.5->langchain_experimental) (2.0.25)\n",
      "Requirement already satisfied: langsmith<0.1,>=0.0.83 in /home/none/miniconda3/lib/python3.10/site-packages (from langchain<0.2.0,>=0.1.5->langchain_experimental) (0.0.87)\n",
      "Requirement already satisfied: requests<3,>=2 in /home/none/.local/lib/python3.10/site-packages (from langchain<0.2.0,>=0.1.5->langchain_experimental) (2.28.2)\n",
      "Requirement already satisfied: aiohttp<4.0.0,>=3.8.3 in /home/none/.local/lib/python3.10/site-packages (from langchain<0.2.0,>=0.1.5->langchain_experimental) (3.8.4)\n",
      "Requirement already satisfied: dataclasses-json<0.7,>=0.5.7 in /home/none/miniconda3/lib/python3.10/site-packages (from langchain<0.2.0,>=0.1.5->langchain_experimental) (0.6.4)\n",
      "Requirement already satisfied: PyYAML>=5.3 in /home/none/miniconda3/lib/python3.10/site-packages (from langchain<0.2.0,>=0.1.5->langchain_experimental) (6.0.1)\n",
      "Requirement already satisfied: langchain-community<0.1,>=0.0.17 in /home/none/miniconda3/lib/python3.10/site-packages (from langchain<0.2.0,>=0.1.5->langchain_experimental) (0.0.19)\n",
      "Requirement already satisfied: pydantic<3,>=1 in /home/none/miniconda3/lib/python3.10/site-packages (from langchain<0.2.0,>=0.1.5->langchain_experimental) (2.5.3)\n",
      "Requirement already satisfied: tenacity<9.0.0,>=8.1.0 in /home/none/miniconda3/lib/python3.10/site-packages (from langchain<0.2.0,>=0.1.5->langchain_experimental) (8.2.3)\n",
      "Requirement already satisfied: async-timeout<5.0.0,>=4.0.0 in /home/none/.local/lib/python3.10/site-packages (from langchain<0.2.0,>=0.1.5->langchain_experimental) (4.0.2)\n",
      "Requirement already satisfied: jsonpatch<2.0,>=1.33 in /home/none/miniconda3/lib/python3.10/site-packages (from langchain<0.2.0,>=0.1.5->langchain_experimental) (1.33)\n",
      "Requirement already satisfied: packaging<24.0,>=23.2 in /home/none/miniconda3/lib/python3.10/site-packages (from langchain-core<0.2.0,>=0.1.16->langchain_experimental) (23.2)\n",
      "Requirement already satisfied: anyio<5,>=3 in /home/none/.local/lib/python3.10/site-packages (from langchain-core<0.2.0,>=0.1.16->langchain_experimental) (3.6.2)\n",
      "Requirement already satisfied: tqdm>4 in /home/none/miniconda3/lib/python3.10/site-packages (from openai<2.0.0,>=1.10.0->langchain_openai) (4.64.1)\n",
      "Requirement already satisfied: httpx<1,>=0.23.0 in /home/none/miniconda3/lib/python3.10/site-packages (from openai<2.0.0,>=1.10.0->langchain_openai) (0.26.0)\n",
      "Requirement already satisfied: sniffio in /home/none/.local/lib/python3.10/site-packages (from openai<2.0.0,>=1.10.0->langchain_openai) (1.3.0)\n",
      "Requirement already satisfied: distro<2,>=1.7.0 in /home/none/.local/lib/python3.10/site-packages (from openai<2.0.0,>=1.10.0->langchain_openai) (1.8.0)\n",
      "Requirement already satisfied: typing-extensions<5,>=4.7 in /home/none/miniconda3/lib/python3.10/site-packages (from openai<2.0.0,>=1.10.0->langchain_openai) (4.9.0)\n",
      "Collecting regex>=2022.1.18\n",
      "  Using cached regex-2023.12.25-cp310-cp310-manylinux_2_17_x86_64.manylinux2014_x86_64.whl (773 kB)\n",
      "Requirement already satisfied: charset-normalizer<4.0,>=2.0 in /home/none/.local/lib/python3.10/site-packages (from aiohttp<4.0.0,>=3.8.3->langchain<0.2.0,>=0.1.5->langchain_experimental) (3.1.0)\n",
      "Requirement already satisfied: yarl<2.0,>=1.0 in /home/none/.local/lib/python3.10/site-packages (from aiohttp<4.0.0,>=3.8.3->langchain<0.2.0,>=0.1.5->langchain_experimental) (1.8.2)\n",
      "Requirement already satisfied: multidict<7.0,>=4.5 in /home/none/.local/lib/python3.10/site-packages (from aiohttp<4.0.0,>=3.8.3->langchain<0.2.0,>=0.1.5->langchain_experimental) (6.0.4)\n",
      "Requirement already satisfied: attrs>=17.3.0 in /home/none/.local/lib/python3.10/site-packages (from aiohttp<4.0.0,>=3.8.3->langchain<0.2.0,>=0.1.5->langchain_experimental) (22.2.0)\n",
      "Requirement already satisfied: aiosignal>=1.1.2 in /home/none/.local/lib/python3.10/site-packages (from aiohttp<4.0.0,>=3.8.3->langchain<0.2.0,>=0.1.5->langchain_experimental) (1.3.1)\n",
      "Requirement already satisfied: frozenlist>=1.1.1 in /home/none/.local/lib/python3.10/site-packages (from aiohttp<4.0.0,>=3.8.3->langchain<0.2.0,>=0.1.5->langchain_experimental) (1.3.3)\n",
      "Requirement already satisfied: idna>=2.8 in /home/none/miniconda3/lib/python3.10/site-packages (from anyio<5,>=3->langchain-core<0.2.0,>=0.1.16->langchain_experimental) (3.4)\n",
      "Requirement already satisfied: typing-inspect<1,>=0.4.0 in /home/none/miniconda3/lib/python3.10/site-packages (from dataclasses-json<0.7,>=0.5.7->langchain<0.2.0,>=0.1.5->langchain_experimental) (0.9.0)\n",
      "Requirement already satisfied: marshmallow<4.0.0,>=3.18.0 in /home/none/miniconda3/lib/python3.10/site-packages (from dataclasses-json<0.7,>=0.5.7->langchain<0.2.0,>=0.1.5->langchain_experimental) (3.20.2)\n",
      "Requirement already satisfied: httpcore==1.* in /home/none/miniconda3/lib/python3.10/site-packages (from httpx<1,>=0.23.0->openai<2.0.0,>=1.10.0->langchain_openai) (1.0.2)\n",
      "Requirement already satisfied: certifi in /home/none/miniconda3/lib/python3.10/site-packages (from httpx<1,>=0.23.0->openai<2.0.0,>=1.10.0->langchain_openai) (2022.12.7)\n",
      "Requirement already satisfied: h11<0.15,>=0.13 in /home/none/miniconda3/lib/python3.10/site-packages (from httpcore==1.*->httpx<1,>=0.23.0->openai<2.0.0,>=1.10.0->langchain_openai) (0.14.0)\n",
      "Requirement already satisfied: jsonpointer>=1.9 in /home/none/.local/lib/python3.10/site-packages (from jsonpatch<2.0,>=1.33->langchain<0.2.0,>=0.1.5->langchain_experimental) (2.3)\n",
      "Requirement already satisfied: annotated-types>=0.4.0 in /home/none/miniconda3/lib/python3.10/site-packages (from pydantic<3,>=1->langchain<0.2.0,>=0.1.5->langchain_experimental) (0.6.0)\n",
      "Requirement already satisfied: pydantic-core==2.14.6 in /home/none/miniconda3/lib/python3.10/site-packages (from pydantic<3,>=1->langchain<0.2.0,>=0.1.5->langchain_experimental) (2.14.6)\n",
      "Requirement already satisfied: urllib3<1.27,>=1.21.1 in /home/none/miniconda3/lib/python3.10/site-packages (from requests<3,>=2->langchain<0.2.0,>=0.1.5->langchain_experimental) (1.26.14)\n",
      "Requirement already satisfied: greenlet!=0.4.17 in /home/none/miniconda3/lib/python3.10/site-packages (from SQLAlchemy<3,>=1.4->langchain<0.2.0,>=0.1.5->langchain_experimental) (3.0.3)\n",
      "Requirement already satisfied: mypy-extensions>=0.3.0 in /home/none/miniconda3/lib/python3.10/site-packages (from typing-inspect<1,>=0.4.0->dataclasses-json<0.7,>=0.5.7->langchain<0.2.0,>=0.1.5->langchain_experimental) (1.0.0)\n",
      "Installing collected packages: regex, tiktoken, openai, langchain_openai, langchain_experimental\n",
      "  Attempting uninstall: openai\n",
      "    Found existing installation: openai 1.6.1\n",
      "    Uninstalling openai-1.6.1:\n",
      "      Successfully uninstalled openai-1.6.1\n",
      "Successfully installed langchain_experimental-0.0.50 langchain_openai-0.0.5 openai-1.11.1 regex-2023.12.25 tiktoken-0.5.2\n"
     ]
    }
   ],
   "source": [
    "!pip install langchain_experimental langchain_openai"
   ]
  },
  {
   "cell_type": "code",
   "execution_count": 17,
   "id": "7daef7eb",
   "metadata": {},
   "outputs": [
    {
     "name": "stdout",
     "output_type": "stream",
     "text": [
      "\u001b[31mERROR: Could not find a version that satisfies the requirement faiss (from versions: none)\u001b[0m\u001b[31m\n",
      "\u001b[0m\u001b[31mERROR: No matching distribution found for faiss\u001b[0m\u001b[31m\n",
      "\u001b[0m"
     ]
    }
   ],
   "source": [
    "!pip install faiss"
   ]
  },
  {
   "cell_type": "markdown",
   "id": "556af556",
   "metadata": {},
   "source": [
    "## Install and Import Required Modules"
   ]
  },
  {
   "cell_type": "code",
   "execution_count": 1,
   "id": "c8a354b6",
   "metadata": {},
   "outputs": [],
   "source": [
    "from typing import Optional\n",
    "\n",
    "from langchain_experimental.autonomous_agents import BabyAGI\n",
    "from langchain_openai import OpenAI, OpenAIEmbeddings"
   ]
  },
  {
   "cell_type": "markdown",
   "id": "09f70772",
   "metadata": {},
   "source": [
    "## Connect to the Vector Store\n",
    "\n",
    "Depending on what vectorstore you use, this step may look different."
   ]
  },
  {
   "cell_type": "code",
   "execution_count": 5,
   "id": "794045d4",
   "metadata": {},
   "outputs": [],
   "source": [
    "from langchain.docstore import InMemoryDocstore\n",
    "from langchain_community.vectorstores import FAISS"
   ]
  },
  {
   "cell_type": "code",
   "execution_count": 10,
   "id": "0b45ea52",
   "metadata": {},
   "outputs": [
    {
     "data": {
      "text/plain": [
       "langchain_community.vectorstores.faiss.FAISS"
      ]
     },
     "execution_count": 10,
     "metadata": {},
     "output_type": "execute_result"
    }
   ],
   "source": [
    "FAISS"
   ]
  },
  {
   "cell_type": "code",
   "execution_count": 24,
   "id": "6e0305eb",
   "metadata": {},
   "outputs": [
    {
     "name": "stderr",
     "output_type": "stream",
     "text": [
      "`embedding_function` is expected to be an Embeddings object, support for passing in a function will soon be removed.\n"
     ]
    }
   ],
   "source": [
    "# Define your embedding model\n",
    "embeddings_model = OpenAIEmbeddings()\n",
    "# Initialize the vectorstore as empty\n",
    "import faiss \n",
    "\n",
    "embedding_size = 1536\n",
    "index = faiss.IndexFlatL2(embedding_size)\n",
    "vectorstore = FAISS(embeddings_model.embed_query, index, InMemoryDocstore({}), {})"
   ]
  },
  {
   "cell_type": "markdown",
   "id": "05ba762e",
   "metadata": {},
   "source": [
    "### Run the BabyAGI\n",
    "\n",
    "Now it's time to create the BabyAGI controller and watch it try to accomplish your objective."
   ]
  },
  {
   "cell_type": "code",
   "execution_count": 25,
   "id": "3d220b69",
   "metadata": {},
   "outputs": [],
   "source": [
    "OBJECTIVE = \"what should I do today if I am an unemployed? rejected so much already?\""
   ]
  },
  {
   "cell_type": "code",
   "execution_count": 26,
   "id": "8a8e5543",
   "metadata": {},
   "outputs": [],
   "source": [
    "llm = OpenAI(temperature=0)"
   ]
  },
  {
   "cell_type": "code",
   "execution_count": 27,
   "id": "3d69899b",
   "metadata": {},
   "outputs": [],
   "source": [
    "# Logging of LLMChains\n",
    "verbose = False\n",
    "# If None, will keep on going forever\n",
    "max_iterations: Optional[int] = 3\n",
    "baby_agi = BabyAGI.from_llm(\n",
    "    llm=llm, vectorstore=vectorstore, verbose=verbose, max_iterations=max_iterations\n",
    ")"
   ]
  },
  {
   "cell_type": "code",
   "execution_count": 28,
   "id": "f7957b51",
   "metadata": {
    "scrolled": false
   },
   "outputs": [
    {
     "name": "stdout",
     "output_type": "stream",
     "text": [
      "\u001b[95m\u001b[1m\n",
      "*****TASK LIST*****\n",
      "\u001b[0m\u001b[0m\n",
      "1: Make a todo list\n",
      "\u001b[92m\u001b[1m\n",
      "*****NEXT TASK*****\n",
      "\u001b[0m\u001b[0m\n",
      "1: Make a todo list\n",
      "\u001b[93m\u001b[1m\n",
      "*****TASK RESULT*****\n",
      "\u001b[0m\u001b[0m\n",
      "\n",
      "1. Update your resume and cover letter: Start by reviewing and updating your resume and cover letter to make sure they are tailored to the specific job you are applying for. This will increase your chances of getting noticed by potential employers.\n",
      "\n",
      "2. Network: Reach out to your friends, family, and professional contacts to let them know you are looking for a job. Attend networking events and job fairs to expand your network and potentially find job opportunities.\n",
      "\n",
      "3. Apply for jobs: Spend some time each day searching for and applying to job openings that match your skills and experience. Don't be discouraged by rejections, keep applying and eventually you will find the right fit.\n",
      "\n",
      "4. Improve your skills: Use your free time to learn new skills or improve existing ones. This will make you a more attractive candidate to potential employers and increase your chances of getting hired.\n",
      "\n",
      "5. Volunteer: Consider volunteering for a cause or organization that aligns with your interests and skills. This will not only give you a sense of purpose, but also help you gain new skills and make valuable connections.\n",
      "\n",
      "6. Stay positive: Job searching can be a frustrating and demotivating process, but it's important to stay positive and keep a good attitude. Take breaks when needed and focus on the progress you have\n",
      "\u001b[95m\u001b[1m\n",
      "*****TASK LIST*****\n",
      "\u001b[0m\u001b[0m\n",
      "1: Research potential employers: Take some time to research companies and organizations that you are interested in working for. This will help you tailor your job search and applications to specific companies and increase your chances of getting hired.\n",
      "2: Attend job search workshops: Look for workshops or seminars that offer tips and strategies for job searching. These can provide valuable insights and resources to help you in your job search.\n",
      "3: Utilize job search websites: There are many job search websites and platforms available that can help you find job openings and connect with potential employers. Make sure to regularly check these sites for new job postings.\n",
      "4: Practice interviewing: Take some time to practice your interviewing skills, either with a friend or by recording yourself. This will help you feel more confident and prepared for job interviews.\n",
      "5: Consider freelancing or remote work: If traditional job opportunities are limited, consider freelancing or remote work options. This can provide valuable experience and income while you continue your job search.\n",
      "6: Take care of yourself: Job searching can be stressful, so make sure to take care of yourself both physically and mentally. Get enough rest, exercise, and practice self-care to stay motivated and focused on your job search.\n",
      "7: Consider the ultimate objective of your team: What should I do\n",
      "\u001b[92m\u001b[1m\n",
      "*****NEXT TASK*****\n",
      "\u001b[0m\u001b[0m\n",
      "1: Research potential employers: Take some time to research companies and organizations that you are interested in working for. This will help you tailor your job search and applications to specific companies and increase your chances of getting hired.\n",
      "\u001b[93m\u001b[1m\n",
      "*****TASK RESULT*****\n",
      "\u001b[0m\u001b[0m\n",
      " Based on your previous task of creating a todo list, I suggest you start by researching potential employers. This will help you narrow down your job search and focus on companies that align with your interests and skills. Take some time to look into their values, mission, and job openings to see if they would be a good fit for you. This will increase your chances of getting hired and help you avoid further rejection. Good luck!\n",
      "\u001b[95m\u001b[1m\n",
      "*****TASK LIST*****\n",
      "\u001b[0m\u001b[0m\n",
      "1: Attend job search workshops: Look for workshops or seminars that offer tips and strategies for job searching. These can provide valuable insights and resources to help you in your job search.\n",
      "2: Utilize job search websites: There are many job search websites and platforms available that can help you find job openings and connect with potential employers. Make sure to regularly check these sites for new job postings.\n",
      "3: Practice interviewing: Take some time to practice your interviewing skills, either with a friend or by recording yourself. This will help you feel more confident and prepared for job interviews.\n",
      "4: Consider freelancing or remote work: If traditional job opportunities are limited, consider freelancing or remote work options. This can provide valuable experience and income while you continue your job search.\n",
      "5: Take care of yourself: Job searching can be stressful, so make sure to take care of yourself both physically and mentally. Get enough rest, exercise, and practice self-care to stay motivated and focused on your job search.\n",
      "6: Attend networking events: Look for networking events in your area that are relevant to your industry or interests. This will give you the opportunity to meet and connect with potential employers and expand your professional network.\n",
      "7: Update your resume and cover letter: Make sure your resume and cover letter\n",
      "\u001b[92m\u001b[1m\n",
      "*****NEXT TASK*****\n",
      "\u001b[0m\u001b[0m\n",
      "1: Attend job search workshops: Look for workshops or seminars that offer tips and strategies for job searching. These can provide valuable insights and resources to help you in your job search.\n",
      "\u001b[93m\u001b[1m\n",
      "*****TASK RESULT*****\n",
      "\u001b[0m\u001b[0m\n",
      " Based on your current situation, it would be beneficial for you to attend job search workshops. These workshops can provide you with valuable tips and strategies for finding employment, as well as connect you with other job seekers and potential employers. Additionally, attending these workshops can help you stay motivated and focused in your job search, even after facing rejection. Make sure to research and sign up for workshops that align with your interests and career goals.\n",
      "\u001b[91m\u001b[1m\n",
      "*****TASK ENDING*****\n",
      "\u001b[0m\u001b[0m\n"
     ]
    },
    {
     "data": {
      "text/plain": [
       "{'objective': 'what should I do today if I am an unemployed? rejected so much already?'}"
      ]
     },
     "execution_count": 28,
     "metadata": {},
     "output_type": "execute_result"
    }
   ],
   "source": [
    "baby_agi({\"objective\": OBJECTIVE})"
   ]
  },
  {
   "cell_type": "code",
   "execution_count": null,
   "id": "898a210b",
   "metadata": {},
   "outputs": [],
   "source": []
  }
 ],
 "metadata": {
  "kernelspec": {
   "display_name": "Python 3 (ipykernel)",
   "language": "python",
   "name": "python3"
  },
  "language_info": {
   "codemirror_mode": {
    "name": "ipython",
    "version": 3
   },
   "file_extension": ".py",
   "mimetype": "text/x-python",
   "name": "python",
   "nbconvert_exporter": "python",
   "pygments_lexer": "ipython3",
   "version": "3.10.9"
  }
 },
 "nbformat": 4,
 "nbformat_minor": 5
}
