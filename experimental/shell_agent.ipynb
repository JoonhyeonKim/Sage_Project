{
 "cells": [
  {
   "cell_type": "markdown",
   "metadata": {},
   "source": [
    "https://how.wtf/create-and-run-bash-programs-with-langchain.html"
   ]
  },
  {
   "cell_type": "code",
   "execution_count": 5,
   "metadata": {},
   "outputs": [
    {
     "name": "stdout",
     "output_type": "stream",
     "text": [
      "Collecting langchain_experimental\n",
      "  Using cached langchain_experimental-0.0.51-py3-none-any.whl (167 kB)\n",
      "Requirement already satisfied: langchain-core<0.2.0,>=0.1.16 in /home/none/Documents/rag/myenv/lib/python3.10/site-packages (from langchain_experimental) (0.1.23)\n",
      "Requirement already satisfied: langchain<0.2.0,>=0.1.5 in /home/none/Documents/rag/myenv/lib/python3.10/site-packages (from langchain_experimental) (0.1.7)\n",
      "Requirement already satisfied: dataclasses-json<0.7,>=0.5.7 in /home/none/Documents/rag/myenv/lib/python3.10/site-packages (from langchain<0.2.0,>=0.1.5->langchain_experimental) (0.6.3)\n",
      "Requirement already satisfied: aiohttp<4.0.0,>=3.8.3 in /home/none/Documents/rag/myenv/lib/python3.10/site-packages (from langchain<0.2.0,>=0.1.5->langchain_experimental) (3.9.1)\n",
      "Requirement already satisfied: PyYAML>=5.3 in /home/none/Documents/rag/myenv/lib/python3.10/site-packages (from langchain<0.2.0,>=0.1.5->langchain_experimental) (6.0.1)\n",
      "Requirement already satisfied: jsonpatch<2.0,>=1.33 in /home/none/Documents/rag/myenv/lib/python3.10/site-packages (from langchain<0.2.0,>=0.1.5->langchain_experimental) (1.33)\n",
      "Requirement already satisfied: async-timeout<5.0.0,>=4.0.0 in /home/none/Documents/rag/myenv/lib/python3.10/site-packages (from langchain<0.2.0,>=0.1.5->langchain_experimental) (4.0.3)\n",
      "Requirement already satisfied: tenacity<9.0.0,>=8.1.0 in /home/none/Documents/rag/myenv/lib/python3.10/site-packages (from langchain<0.2.0,>=0.1.5->langchain_experimental) (8.2.3)\n",
      "Requirement already satisfied: SQLAlchemy<3,>=1.4 in /home/none/Documents/rag/myenv/lib/python3.10/site-packages (from langchain<0.2.0,>=0.1.5->langchain_experimental) (2.0.25)\n",
      "Requirement already satisfied: numpy<2,>=1 in /home/none/Documents/rag/myenv/lib/python3.10/site-packages (from langchain<0.2.0,>=0.1.5->langchain_experimental) (1.26.3)\n",
      "Requirement already satisfied: requests<3,>=2 in /home/none/Documents/rag/myenv/lib/python3.10/site-packages (from langchain<0.2.0,>=0.1.5->langchain_experimental) (2.31.0)\n",
      "Requirement already satisfied: pydantic<3,>=1 in /home/none/Documents/rag/myenv/lib/python3.10/site-packages (from langchain<0.2.0,>=0.1.5->langchain_experimental) (2.5.3)\n",
      "Requirement already satisfied: langsmith<0.1,>=0.0.83 in /home/none/Documents/rag/myenv/lib/python3.10/site-packages (from langchain<0.2.0,>=0.1.5->langchain_experimental) (0.0.87)\n",
      "Requirement already satisfied: langchain-community<0.1,>=0.0.20 in /home/none/Documents/rag/myenv/lib/python3.10/site-packages (from langchain<0.2.0,>=0.1.5->langchain_experimental) (0.0.20)\n",
      "Requirement already satisfied: packaging<24.0,>=23.2 in /home/none/Documents/rag/myenv/lib/python3.10/site-packages (from langchain-core<0.2.0,>=0.1.16->langchain_experimental) (23.2)\n",
      "Requirement already satisfied: anyio<5,>=3 in /home/none/Documents/rag/myenv/lib/python3.10/site-packages (from langchain-core<0.2.0,>=0.1.16->langchain_experimental) (3.7.1)\n",
      "Requirement already satisfied: aiosignal>=1.1.2 in /home/none/Documents/rag/myenv/lib/python3.10/site-packages (from aiohttp<4.0.0,>=3.8.3->langchain<0.2.0,>=0.1.5->langchain_experimental) (1.3.1)\n",
      "Requirement already satisfied: yarl<2.0,>=1.0 in /home/none/Documents/rag/myenv/lib/python3.10/site-packages (from aiohttp<4.0.0,>=3.8.3->langchain<0.2.0,>=0.1.5->langchain_experimental) (1.9.4)\n",
      "Requirement already satisfied: attrs>=17.3.0 in /home/none/Documents/rag/myenv/lib/python3.10/site-packages (from aiohttp<4.0.0,>=3.8.3->langchain<0.2.0,>=0.1.5->langchain_experimental) (23.2.0)\n",
      "Requirement already satisfied: frozenlist>=1.1.1 in /home/none/Documents/rag/myenv/lib/python3.10/site-packages (from aiohttp<4.0.0,>=3.8.3->langchain<0.2.0,>=0.1.5->langchain_experimental) (1.4.1)\n",
      "Requirement already satisfied: multidict<7.0,>=4.5 in /home/none/Documents/rag/myenv/lib/python3.10/site-packages (from aiohttp<4.0.0,>=3.8.3->langchain<0.2.0,>=0.1.5->langchain_experimental) (6.0.4)\n",
      "Requirement already satisfied: sniffio>=1.1 in /home/none/Documents/rag/myenv/lib/python3.10/site-packages (from anyio<5,>=3->langchain-core<0.2.0,>=0.1.16->langchain_experimental) (1.3.0)\n",
      "Requirement already satisfied: exceptiongroup in /home/none/Documents/rag/myenv/lib/python3.10/site-packages (from anyio<5,>=3->langchain-core<0.2.0,>=0.1.16->langchain_experimental) (1.2.0)\n",
      "Requirement already satisfied: idna>=2.8 in /home/none/Documents/rag/myenv/lib/python3.10/site-packages (from anyio<5,>=3->langchain-core<0.2.0,>=0.1.16->langchain_experimental) (3.6)\n",
      "Requirement already satisfied: marshmallow<4.0.0,>=3.18.0 in /home/none/Documents/rag/myenv/lib/python3.10/site-packages (from dataclasses-json<0.7,>=0.5.7->langchain<0.2.0,>=0.1.5->langchain_experimental) (3.20.2)\n",
      "Requirement already satisfied: typing-inspect<1,>=0.4.0 in /home/none/Documents/rag/myenv/lib/python3.10/site-packages (from dataclasses-json<0.7,>=0.5.7->langchain<0.2.0,>=0.1.5->langchain_experimental) (0.9.0)\n",
      "Requirement already satisfied: jsonpointer>=1.9 in /home/none/Documents/rag/myenv/lib/python3.10/site-packages (from jsonpatch<2.0,>=1.33->langchain<0.2.0,>=0.1.5->langchain_experimental) (2.4)\n",
      "Requirement already satisfied: annotated-types>=0.4.0 in /home/none/Documents/rag/myenv/lib/python3.10/site-packages (from pydantic<3,>=1->langchain<0.2.0,>=0.1.5->langchain_experimental) (0.6.0)\n",
      "Requirement already satisfied: pydantic-core==2.14.6 in /home/none/Documents/rag/myenv/lib/python3.10/site-packages (from pydantic<3,>=1->langchain<0.2.0,>=0.1.5->langchain_experimental) (2.14.6)\n",
      "Requirement already satisfied: typing-extensions>=4.6.1 in /home/none/Documents/rag/myenv/lib/python3.10/site-packages (from pydantic<3,>=1->langchain<0.2.0,>=0.1.5->langchain_experimental) (4.9.0)\n",
      "Requirement already satisfied: charset-normalizer<4,>=2 in /home/none/Documents/rag/myenv/lib/python3.10/site-packages (from requests<3,>=2->langchain<0.2.0,>=0.1.5->langchain_experimental) (3.3.2)\n",
      "Requirement already satisfied: urllib3<3,>=1.21.1 in /home/none/Documents/rag/myenv/lib/python3.10/site-packages (from requests<3,>=2->langchain<0.2.0,>=0.1.5->langchain_experimental) (2.1.0)\n",
      "Requirement already satisfied: certifi>=2017.4.17 in /home/none/Documents/rag/myenv/lib/python3.10/site-packages (from requests<3,>=2->langchain<0.2.0,>=0.1.5->langchain_experimental) (2023.11.17)\n",
      "Requirement already satisfied: greenlet!=0.4.17 in /home/none/Documents/rag/myenv/lib/python3.10/site-packages (from SQLAlchemy<3,>=1.4->langchain<0.2.0,>=0.1.5->langchain_experimental) (3.0.3)\n",
      "Requirement already satisfied: mypy-extensions>=0.3.0 in /home/none/Documents/rag/myenv/lib/python3.10/site-packages (from typing-inspect<1,>=0.4.0->dataclasses-json<0.7,>=0.5.7->langchain<0.2.0,>=0.1.5->langchain_experimental) (1.0.0)\n",
      "Installing collected packages: langchain_experimental\n",
      "Successfully installed langchain_experimental-0.0.51\n",
      "\n",
      "\u001b[1m[\u001b[0m\u001b[34;49mnotice\u001b[0m\u001b[1;39;49m]\u001b[0m\u001b[39;49m A new release of pip available: \u001b[0m\u001b[31;49m22.3.1\u001b[0m\u001b[39;49m -> \u001b[0m\u001b[32;49m24.0\u001b[0m\n",
      "\u001b[1m[\u001b[0m\u001b[34;49mnotice\u001b[0m\u001b[1;39;49m]\u001b[0m\u001b[39;49m To update, run: \u001b[0m\u001b[32;49mpip install --upgrade pip\u001b[0m\n"
     ]
    }
   ],
   "source": [
    "!pip install langchain_experimental"
   ]
  },
  {
   "cell_type": "code",
   "execution_count": 11,
   "metadata": {},
   "outputs": [],
   "source": [
    "from langchain_experimental.llm_bash.bash import BashProcess"
   ]
  },
  {
   "cell_type": "code",
   "execution_count": 12,
   "metadata": {},
   "outputs": [],
   "source": [
    "shell_tool = BashProcess()"
   ]
  },
  {
   "cell_type": "code",
   "execution_count": 15,
   "metadata": {},
   "outputs": [
    {
     "name": "stdout",
     "output_type": "stream",
     "text": [
      "Command 'commands' returned non-zero exit status 127.\n"
     ]
    }
   ],
   "source": [
    "print(shell_tool.run({\"commands\": [\"echo 'Hello World!'\", \"time\"]}))"
   ]
  },
  {
   "cell_type": "code",
   "execution_count": 14,
   "metadata": {},
   "outputs": [
    {
     "ename": "ValidationError",
     "evalue": "1 validation error for ChatOpenAI\n__root__\n  Did not find openai_api_key, please add an environment variable `OPENAI_API_KEY` which contains it, or pass `openai_api_key` as a named parameter. (type=value_error)",
     "output_type": "error",
     "traceback": [
      "\u001b[0;31m---------------------------------------------------------------------------\u001b[0m",
      "\u001b[0;31mValidationError\u001b[0m                           Traceback (most recent call last)",
      "Cell \u001b[0;32mIn[14], line 21\u001b[0m\n\u001b[1;32m     12\u001b[0m template \u001b[38;5;241m=\u001b[39m \u001b[38;5;124m\"\"\"\u001b[39m\u001b[38;5;124mWrite some bash code to solve the user\u001b[39m\u001b[38;5;124m'\u001b[39m\u001b[38;5;124ms problem. \u001b[39m\n\u001b[1;32m     13\u001b[0m \n\u001b[1;32m     14\u001b[0m \u001b[38;5;124mReturn only bash code in Markdown format, e.g.:\u001b[39m\n\u001b[0;32m   (...)\u001b[0m\n\u001b[1;32m     17\u001b[0m \u001b[38;5;124m....\u001b[39m\n\u001b[1;32m     18\u001b[0m \u001b[38;5;124m```\u001b[39m\u001b[38;5;124m\"\"\"\u001b[39m\n\u001b[1;32m     19\u001b[0m prompt \u001b[38;5;241m=\u001b[39m ChatPromptTemplate\u001b[38;5;241m.\u001b[39mfrom_messages([(\u001b[38;5;124m\"\u001b[39m\u001b[38;5;124msystem\u001b[39m\u001b[38;5;124m\"\u001b[39m, template), (\u001b[38;5;124m\"\u001b[39m\u001b[38;5;124mhuman\u001b[39m\u001b[38;5;124m\"\u001b[39m, \u001b[38;5;124m\"\u001b[39m\u001b[38;5;132;01m{input}\u001b[39;00m\u001b[38;5;124m\"\u001b[39m)])\n\u001b[0;32m---> 21\u001b[0m model \u001b[38;5;241m=\u001b[39m \u001b[43mChatOpenAI\u001b[49m\u001b[43m(\u001b[49m\u001b[43m)\u001b[49m\n\u001b[1;32m     23\u001b[0m chain \u001b[38;5;241m=\u001b[39m prompt \u001b[38;5;241m|\u001b[39m model \u001b[38;5;241m|\u001b[39m StrOutputParser() \u001b[38;5;241m|\u001b[39m sanitize_output \u001b[38;5;241m|\u001b[39m BashProcess()\u001b[38;5;241m.\u001b[39mrun\n\u001b[1;32m     25\u001b[0m \u001b[38;5;28mprint\u001b[39m(chain\u001b[38;5;241m.\u001b[39minvoke({\u001b[38;5;124m\"\u001b[39m\u001b[38;5;124minput\u001b[39m\u001b[38;5;124m\"\u001b[39m: \u001b[38;5;124m\"\u001b[39m\u001b[38;5;124mPrint \u001b[39m\u001b[38;5;124m'\u001b[39m\u001b[38;5;124mHello world!\u001b[39m\u001b[38;5;124m'\u001b[39m\u001b[38;5;124m to the console\u001b[39m\u001b[38;5;124m\"\u001b[39m}))\n",
      "File \u001b[0;32m~/Documents/rag/myenv/lib/python3.10/site-packages/langchain_core/load/serializable.py:107\u001b[0m, in \u001b[0;36mSerializable.__init__\u001b[0;34m(self, **kwargs)\u001b[0m\n\u001b[1;32m    106\u001b[0m \u001b[38;5;28;01mdef\u001b[39;00m \u001b[38;5;21m__init__\u001b[39m(\u001b[38;5;28mself\u001b[39m, \u001b[38;5;241m*\u001b[39m\u001b[38;5;241m*\u001b[39mkwargs: Any) \u001b[38;5;241m-\u001b[39m\u001b[38;5;241m>\u001b[39m \u001b[38;5;28;01mNone\u001b[39;00m:\n\u001b[0;32m--> 107\u001b[0m     \u001b[38;5;28;43msuper\u001b[39;49m\u001b[43m(\u001b[49m\u001b[43m)\u001b[49m\u001b[38;5;241;43m.\u001b[39;49m\u001b[38;5;21;43m__init__\u001b[39;49m\u001b[43m(\u001b[49m\u001b[38;5;241;43m*\u001b[39;49m\u001b[38;5;241;43m*\u001b[39;49m\u001b[43mkwargs\u001b[49m\u001b[43m)\u001b[49m\n\u001b[1;32m    108\u001b[0m     \u001b[38;5;28mself\u001b[39m\u001b[38;5;241m.\u001b[39m_lc_kwargs \u001b[38;5;241m=\u001b[39m kwargs\n",
      "File \u001b[0;32m~/Documents/rag/myenv/lib/python3.10/site-packages/pydantic/v1/main.py:341\u001b[0m, in \u001b[0;36mBaseModel.__init__\u001b[0;34m(__pydantic_self__, **data)\u001b[0m\n\u001b[1;32m    339\u001b[0m values, fields_set, validation_error \u001b[38;5;241m=\u001b[39m validate_model(__pydantic_self__\u001b[38;5;241m.\u001b[39m\u001b[38;5;18m__class__\u001b[39m, data)\n\u001b[1;32m    340\u001b[0m \u001b[38;5;28;01mif\u001b[39;00m validation_error:\n\u001b[0;32m--> 341\u001b[0m     \u001b[38;5;28;01mraise\u001b[39;00m validation_error\n\u001b[1;32m    342\u001b[0m \u001b[38;5;28;01mtry\u001b[39;00m:\n\u001b[1;32m    343\u001b[0m     object_setattr(__pydantic_self__, \u001b[38;5;124m'\u001b[39m\u001b[38;5;124m__dict__\u001b[39m\u001b[38;5;124m'\u001b[39m, values)\n",
      "\u001b[0;31mValidationError\u001b[0m: 1 validation error for ChatOpenAI\n__root__\n  Did not find openai_api_key, please add an environment variable `OPENAI_API_KEY` which contains it, or pass `openai_api_key` as a named parameter. (type=value_error)"
     ]
    }
   ],
   "source": [
    "from langchain_core.output_parsers import StrOutputParser\n",
    "from langchain_experimental.llm_bash.bash import BashProcess\n",
    "from langchain_openai import ChatOpenAI\n",
    "from langchain_core.prompts import ChatPromptTemplate\n",
    "\n",
    "\n",
    "def sanitize_output(text: str):\n",
    "    _, after = text.split(\"```bash\")\n",
    "    return after.split(\"```\")[0]\n",
    "\n",
    "\n",
    "template = \"\"\"Write some bash code to solve the user's problem. \n",
    "\n",
    "Return only bash code in Markdown format, e.g.:\n",
    "\n",
    "```bash\n",
    "....\n",
    "```\"\"\"\n",
    "prompt = ChatPromptTemplate.from_messages([(\"system\", template), (\"human\", \"{input}\")])\n",
    "\n",
    "model = ChatOpenAI()\n",
    "\n",
    "chain = prompt | model | StrOutputParser() | sanitize_output | BashProcess().run\n",
    "\n",
    "print(chain.invoke({\"input\": \"Print 'Hello world!' to the console\"}))"
   ]
  },
  {
   "cell_type": "code",
   "execution_count": null,
   "metadata": {},
   "outputs": [],
   "source": []
  }
 ],
 "metadata": {
  "kernelspec": {
   "display_name": "myenv",
   "language": "python",
   "name": "python3"
  },
  "language_info": {
   "codemirror_mode": {
    "name": "ipython",
    "version": 3
   },
   "file_extension": ".py",
   "mimetype": "text/x-python",
   "name": "python",
   "nbconvert_exporter": "python",
   "pygments_lexer": "ipython3",
   "version": "3.10.9"
  }
 },
 "nbformat": 4,
 "nbformat_minor": 2
}
